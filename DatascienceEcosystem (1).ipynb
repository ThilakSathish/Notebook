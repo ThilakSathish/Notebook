{
 "cells": [
  {
   "cell_type": "markdown",
   "id": "857f88e3-3588-4901-92d9-3b6faeac2a16",
   "metadata": {},
   "source": [
    "#H1: Data Science Tools and Ecosystem"
   ]
  },
  {
   "cell_type": "markdown",
   "id": "62059265-e9bc-4b38-a96c-aad40894c97a",
   "metadata": {
    "tags": []
   },
   "source": [
    "#H1: In this notebook, Data Science Tools and Ecosystem are summarized"
   ]
  },
  {
   "cell_type": "markdown",
   "id": "911de0d8-2e0c-432a-a9d3-b65283910c8c",
   "metadata": {},
   "source": [
    "#H1: list data science languages"
   ]
  },
  {
   "cell_type": "markdown",
   "id": "923a9b40-1d6a-4903-a282-667604dc99e7",
   "metadata": {},
   "source": [
    "Some of the popular languages that data Scientists uses are"
   ]
  },
  {
   "cell_type": "markdown",
   "id": "1ab30040-2eb1-463b-8ab6-a912ec65165c",
   "metadata": {},
   "source": [
    "1. Python\n",
    "2. R\n",
    "3. SQL\n",
    "4. Juila"
   ]
  },
  {
   "cell_type": "markdown",
   "id": "ded0f206-0d6b-4cca-82ec-1b6d769a1fb8",
   "metadata": {},
   "source": [
    "#H1: list data science libraries"
   ]
  },
  {
   "cell_type": "markdown",
   "id": "1dcda413-5c29-42cd-b12a-44ffa2b1c494",
   "metadata": {},
   "source": [
    "Some of the commonly used libraries  used by Data Scientist include:"
   ]
  },
  {
   "cell_type": "markdown",
   "id": "5a231099-cba0-4400-992d-27f57d792af5",
   "metadata": {},
   "source": [
    "1. Pandas\n",
    "2. Numpy\n",
    "3. Pytorch\n",
    "4. Matplotlib"
   ]
  },
  {
   "cell_type": "markdown",
   "id": "a91d4275-d9ec-4830-825b-7674dc802bd9",
   "metadata": {},
   "source": [
    "#H1: Data science tools"
   ]
  },
  {
   "cell_type": "markdown",
   "id": "4a52f316-8f9f-49e2-90eb-310558ba7364",
   "metadata": {},
   "source": [
    "|Data Science Tools|\n",
    "--------------------\n",
    "|Jupyter Notebook|\n",
    "|Rstudio|\n",
    "|VS code with python|"
   ]
  },
  {
   "cell_type": "markdown",
   "id": "e008ef28-d64c-48b6-a529-69b596212092",
   "metadata": {},
   "source": [
    "#H1: introducing arithmetic expression examples"
   ]
  },
  {
   "cell_type": "markdown",
   "id": "26e51fa6-1e22-478a-bc21-e9ecbdd309ae",
   "metadata": {},
   "source": [
    "###H3: Below are a few examples  of evaluating arithmetic expression in python"
   ]
  },
  {
   "cell_type": "markdown",
   "id": "1b349622-6890-4e36-b2f4-cfa3cbfa8a35",
   "metadata": {},
   "source": [
    "#H1: Multiply and add numbers"
   ]
  },
  {
   "cell_type": "markdown",
   "id": "6191723b-a4fa-4cff-8d25-db476cc83276",
   "metadata": {},
   "source": [
    "###H3: This is a simple arithmetic expression to multiply and then add integers"
   ]
  },
  {
   "cell_type": "code",
   "execution_count": 2,
   "id": "90e4315e-c376-4f2d-9344-8e49bb15dd2f",
   "metadata": {
    "tags": []
   },
   "outputs": [
    {
     "data": {
      "text/plain": [
       "17"
      ]
     },
     "execution_count": 2,
     "metadata": {},
     "output_type": "execute_result"
    }
   ],
   "source": [
    "(3*4)+5"
   ]
  },
  {
   "cell_type": "markdown",
   "id": "0c1a5165-f3e1-4e6c-b88a-a13ab7248a57",
   "metadata": {},
   "source": [
    "#H1: Convert mintues to hours"
   ]
  },
  {
   "cell_type": "markdown",
   "id": "a4416cce-8e58-4a9b-977f-96621f140987",
   "metadata": {},
   "source": [
    "###H3: This will convert 200 minutes to hours divding by 60"
   ]
  },
  {
   "cell_type": "code",
   "execution_count": 3,
   "id": "bd9aa102-c8df-4f4e-b6b2-42017662faac",
   "metadata": {
    "tags": []
   },
   "outputs": [
    {
     "data": {
      "text/plain": [
       "3.3333333333333335"
      ]
     },
     "execution_count": 3,
     "metadata": {},
     "output_type": "execute_result"
    }
   ],
   "source": [
    "200/60"
   ]
  },
  {
   "cell_type": "markdown",
   "id": "016af45b-9bfa-4812-8c94-880b518919d1",
   "metadata": {},
   "source": [
    "#H1: In this notebook, Data Science Tools and Ecosystem are Summarized"
   ]
  },
  {
   "cell_type": "markdown",
   "id": "66300ae3-270e-482a-bfb0-8a1938199f79",
   "metadata": {},
   "source": [
    "**objectives**"
   ]
  },
  {
   "cell_type": "markdown",
   "id": "b33872a6-2977-4693-8e12-769755344a82",
   "metadata": {},
   "source": [
    "- Explain the key steps of a typical data science workflow.\n",
    "- Introduce common open-source tools for data science.\n",
    "- Discuss best practices for data visualization.\n",
    "- Explore techniques for data analysis and machine learning."
   ]
  },
  {
   "cell_type": "markdown",
   "id": "80a2748a-d5fa-451f-9242-b9381390e4f3",
   "metadata": {},
   "source": [
    "##H2: Author"
   ]
  },
  {
   "cell_type": "markdown",
   "id": "099d7d26-2ea7-481e-84af-2c6804e143c5",
   "metadata": {},
   "source": [
    "Thilak Sathish"
   ]
  },
  {
   "cell_type": "code",
   "execution_count": null,
   "id": "585971ba-46f3-4be0-8934-ca8e5095f043",
   "metadata": {},
   "outputs": [],
   "source": []
  }
 ],
 "metadata": {
  "kernelspec": {
   "display_name": "Python",
   "language": "python",
   "name": "conda-env-python-py"
  },
  "language_info": {
   "codemirror_mode": {
    "name": "ipython",
    "version": 3
   },
   "file_extension": ".py",
   "mimetype": "text/x-python",
   "name": "python",
   "nbconvert_exporter": "python",
   "pygments_lexer": "ipython3",
   "version": "3.7.12"
  }
 },
 "nbformat": 4,
 "nbformat_minor": 5
}
